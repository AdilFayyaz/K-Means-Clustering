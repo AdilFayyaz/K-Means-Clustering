{
  "nbformat": 4,
  "nbformat_minor": 0,
  "metadata": {
    "colab": {
      "name": "i180613_AI_Lab_13.ipynb",
      "provenance": [],
      "collapsed_sections": [],
      "toc_visible": true
    },
    "language_info": {
      "name": "python"
    },
    "kernelspec": {
      "name": "python3",
      "display_name": "Python 3"
    }
  },
  "cells": [
    {
      "cell_type": "code",
      "metadata": {
        "id": "FclmHS12hK5r",
        "colab": {
          "base_uri": "https://localhost:8080/"
        },
        "outputId": "403bdc1b-1f3b-4de4-9271-b5f5034923f0"
      },
      "source": [
        "import sys\n",
        "sys.path.append('/usr/local/lib/python3.8/site-packages')\n",
        "\n",
        "from sklearn.datasets import load_iris\n",
        "iris = load_iris()\n",
        "print(iris.DESCR)\n",
        "\n",
        "import csv\n",
        "with open('iris.csv', 'w', newline='') as csvfile:\n",
        "    writer = csv.writer(csvfile, quoting=csv.QUOTE_NONNUMERIC)\n",
        "    writer.writerow(iris.feature_names)\n",
        "    writer.writerows(iris.data.tolist())"
      ],
      "execution_count": 1,
      "outputs": [
        {
          "output_type": "stream",
          "text": [
            ".. _iris_dataset:\n",
            "\n",
            "Iris plants dataset\n",
            "--------------------\n",
            "\n",
            "**Data Set Characteristics:**\n",
            "\n",
            "    :Number of Instances: 150 (50 in each of three classes)\n",
            "    :Number of Attributes: 4 numeric, predictive attributes and the class\n",
            "    :Attribute Information:\n",
            "        - sepal length in cm\n",
            "        - sepal width in cm\n",
            "        - petal length in cm\n",
            "        - petal width in cm\n",
            "        - class:\n",
            "                - Iris-Setosa\n",
            "                - Iris-Versicolour\n",
            "                - Iris-Virginica\n",
            "                \n",
            "    :Summary Statistics:\n",
            "\n",
            "    ============== ==== ==== ======= ===== ====================\n",
            "                    Min  Max   Mean    SD   Class Correlation\n",
            "    ============== ==== ==== ======= ===== ====================\n",
            "    sepal length:   4.3  7.9   5.84   0.83    0.7826\n",
            "    sepal width:    2.0  4.4   3.05   0.43   -0.4194\n",
            "    petal length:   1.0  6.9   3.76   1.76    0.9490  (high!)\n",
            "    petal width:    0.1  2.5   1.20   0.76    0.9565  (high!)\n",
            "    ============== ==== ==== ======= ===== ====================\n",
            "\n",
            "    :Missing Attribute Values: None\n",
            "    :Class Distribution: 33.3% for each of 3 classes.\n",
            "    :Creator: R.A. Fisher\n",
            "    :Donor: Michael Marshall (MARSHALL%PLU@io.arc.nasa.gov)\n",
            "    :Date: July, 1988\n",
            "\n",
            "The famous Iris database, first used by Sir R.A. Fisher. The dataset is taken\n",
            "from Fisher's paper. Note that it's the same as in R, but not as in the UCI\n",
            "Machine Learning Repository, which has two wrong data points.\n",
            "\n",
            "This is perhaps the best known database to be found in the\n",
            "pattern recognition literature.  Fisher's paper is a classic in the field and\n",
            "is referenced frequently to this day.  (See Duda & Hart, for example.)  The\n",
            "data set contains 3 classes of 50 instances each, where each class refers to a\n",
            "type of iris plant.  One class is linearly separable from the other 2; the\n",
            "latter are NOT linearly separable from each other.\n",
            "\n",
            ".. topic:: References\n",
            "\n",
            "   - Fisher, R.A. \"The use of multiple measurements in taxonomic problems\"\n",
            "     Annual Eugenics, 7, Part II, 179-188 (1936); also in \"Contributions to\n",
            "     Mathematical Statistics\" (John Wiley, NY, 1950).\n",
            "   - Duda, R.O., & Hart, P.E. (1973) Pattern Classification and Scene Analysis.\n",
            "     (Q327.D83) John Wiley & Sons.  ISBN 0-471-22361-1.  See page 218.\n",
            "   - Dasarathy, B.V. (1980) \"Nosing Around the Neighborhood: A New System\n",
            "     Structure and Classification Rule for Recognition in Partially Exposed\n",
            "     Environments\".  IEEE Transactions on Pattern Analysis and Machine\n",
            "     Intelligence, Vol. PAMI-2, No. 1, 67-71.\n",
            "   - Gates, G.W. (1972) \"The Reduced Nearest Neighbor Rule\".  IEEE Transactions\n",
            "     on Information Theory, May 1972, 431-433.\n",
            "   - See also: 1988 MLC Proceedings, 54-64.  Cheeseman et al\"s AUTOCLASS II\n",
            "     conceptual clustering system finds 3 classes in the data.\n",
            "   - Many, many more ...\n"
          ],
          "name": "stdout"
        }
      ]
    },
    {
      "cell_type": "markdown",
      "metadata": {
        "id": "5s8ZMH1ZhK5x"
      },
      "source": [
        ""
      ]
    },
    {
      "cell_type": "code",
      "metadata": {
        "id": "MsyNuVeMhK5x",
        "colab": {
          "base_uri": "https://localhost:8080/"
        },
        "outputId": "ffeab3bb-92f3-48b9-9031-cd8d697dd723"
      },
      "source": [
        "# see https://scikit-learn.org/stable/modules/generated/sklearn.cluster.KMeans.html for the full API\n",
        "from sklearn.cluster import KMeans\n",
        "\n",
        "kmeans = KMeans(n_clusters=3)\n",
        "kmeans.fit(iris.data)\n",
        "\n",
        "print(kmeans.labels_)\n",
        "print(kmeans.cluster_centers_)"
      ],
      "execution_count": 2,
      "outputs": [
        {
          "output_type": "stream",
          "text": [
            "[1 1 1 1 1 1 1 1 1 1 1 1 1 1 1 1 1 1 1 1 1 1 1 1 1 1 1 1 1 1 1 1 1 1 1 1 1\n",
            " 1 1 1 1 1 1 1 1 1 1 1 1 1 0 0 2 0 0 0 0 0 0 0 0 0 0 0 0 0 0 0 0 0 0 0 0 0\n",
            " 0 0 0 2 0 0 0 0 0 0 0 0 0 0 0 0 0 0 0 0 0 0 0 0 0 0 2 0 2 2 2 2 0 2 2 2 2\n",
            " 2 2 0 0 2 2 2 2 0 2 0 2 0 2 2 0 0 2 2 2 2 2 0 2 2 2 2 0 2 2 2 0 2 2 2 0 2\n",
            " 2 0]\n",
            "[[5.9016129  2.7483871  4.39354839 1.43387097]\n",
            " [5.006      3.428      1.462      0.246     ]\n",
            " [6.85       3.07368421 5.74210526 2.07105263]]\n"
          ],
          "name": "stdout"
        }
      ]
    },
    {
      "cell_type": "markdown",
      "metadata": {
        "id": "9UyAUuwihK5y"
      },
      "source": [
        "## 4: Implement k-means clustering in Python\n",
        "You are now set to actually add the implementation. Note that you are expected to fully implement the mathematical operations instead of using a library function such as `scikit` or `statsmodels`. Your implementation may make several assumptions about the inputs provided to it. Make those explicit in comments. Also, provide an estimate on how long execution of your algorithm will take dependent on the input values. Express this estimate as a function of the inputs, such as the number of clusters and/or the number of data points.\n",
        "\n",
        "\n",
        "descibring limitations and assumptions, and describing complexitity."
      ]
    },
    {
      "cell_type": "code",
      "metadata": {
        "id": "nxUQwiyghK5y"
      },
      "source": [
        "import numpy as np\n",
        "from numpy import random\n",
        "import pandas as pd\n",
        "import matplotlib.pyplot as plt\n",
        "%matplotlib inline\n"
      ],
      "execution_count": 3,
      "outputs": []
    },
    {
      "cell_type": "markdown",
      "metadata": {
        "id": "EB7pzhr1hK5z"
      },
      "source": [
        "###Cluster assignment algorithm"
      ]
    },
    {
      "cell_type": "code",
      "metadata": {
        "id": "8WhxYTKTugJe"
      },
      "source": [
        "import math"
      ],
      "execution_count": 90,
      "outputs": []
    },
    {
      "cell_type": "code",
      "metadata": {
        "id": "OAA2e07gjHzh"
      },
      "source": [
        "def euclideanDistance(datapt, centerValue):\n",
        "  # Calculate euclidean dist for each attribute\n",
        "  sum = 0 \n",
        "  sum += (datapt[0] - centerValue[0])**2\n",
        "  sum += (datapt[1] - centerValue[1])**2\n",
        "  sum += (datapt[2] - centerValue[2])**2\n",
        "  sum += (datapt[3] - centerValue[3])**2\n",
        "  \n",
        "  return math.sqrt(sum)"
      ],
      "execution_count": 196,
      "outputs": []
    },
    {
      "cell_type": "code",
      "metadata": {
        "id": "1qFdSHVyhK5z"
      },
      "source": [
        "# Assign every training example x^(i) to its closest centroid, given the current centroid positions\n",
        "\n",
        "def find_closest_centroids(X, centroids):\n",
        "    '''returns the array of assigned clusters to each example ''' \n",
        "    m = X.shape[0] # no of datappints\n",
        "    k = centroids.shape[0]  #division size\n",
        "    idx = np.zeros(m) # array to assign the centriod\n",
        "    \n",
        "    for i,datapt in enumerate(X):\n",
        "      low = math.inf\n",
        "      dist = []\n",
        "      for j,c in enumerate(centroids):\n",
        "        # to compute euclidean distances\n",
        "        val = euclideanDistance(datapt,c)\n",
        "        if val < low:\n",
        "          low = val\n",
        "          idx[i] = j\n",
        "     \n",
        "    return idx\n",
        "\n"
      ],
      "execution_count": 197,
      "outputs": []
    },
    {
      "cell_type": "markdown",
      "metadata": {
        "id": "GW8bBv2phK5z"
      },
      "source": [
        "###Computing centoroid means"
      ]
    },
    {
      "cell_type": "code",
      "metadata": {
        "id": "m1yOVi0NhK50"
      },
      "source": [
        "# Update Centroids\n",
        "def compute_centroids(X, idx, k):\n",
        "    m, n = X.shape\n",
        "    centroids = np.zeros((k, n))  #3*4\n",
        "    '''Return Updated Values of all K centroids'''\n",
        "    \n",
        "    for i in range(k):\n",
        "      vals = []\n",
        "      for j in range(m):\n",
        "        if idx[j] == i:\n",
        "          vals.append(X[j])\n",
        "      centroids[i] = np.mean(vals,axis=0)\n",
        "\n",
        "    \n",
        "    return centroids        \n",
        "    "
      ],
      "execution_count": 198,
      "outputs": []
    },
    {
      "cell_type": "markdown",
      "metadata": {
        "id": "JBRyu0lqhK50"
      },
      "source": [
        "###Putting it all together (full algorithm: cluster assignment and re-computing centroids)\n"
      ]
    },
    {
      "cell_type": "code",
      "metadata": {
        "id": "EZoyzwXPhK50"
      },
      "source": [
        "def run_k_means(X, initial_centroids, max_iters):\n",
        "    m, n = X.shape\n",
        "    k = initial_centroids.shape[0]\n",
        "    idx = np.zeros(m)\n",
        "    centroids = initial_centroids\n",
        "    \n",
        "    for i in range(max_iters):\n",
        "        # find closest centroid\n",
        "        idx = find_closest_centroids(X, centroids)\n",
        "        #update centroids\n",
        "        centroids = compute_centroids(X, idx, k)\n",
        "    \n",
        "    return idx, centroids\n",
        " "
      ],
      "execution_count": 199,
      "outputs": []
    },
    {
      "cell_type": "markdown",
      "metadata": {
        "id": "43BLjVwrhK51"
      },
      "source": [
        "####Now we will shuffle our data so that the data point are not in order, and save the clusters for visualization"
      ]
    },
    {
      "cell_type": "code",
      "metadata": {
        "id": "ELswW5iphK51"
      },
      "source": [
        "X=iris.data\n",
        "np.random.shuffle(X)\n",
        "cluster1 = X[0:50,:]\n",
        "cluster2 = X[50:100,:]\n",
        "cluster3 = X[100:150,:]\n",
        "\n"
      ],
      "execution_count": 200,
      "outputs": []
    },
    {
      "cell_type": "markdown",
      "metadata": {
        "id": "dV0OoP7phK51"
      },
      "source": [
        "####Now let's run algorithim and form k-means clusters from random initial clusters"
      ]
    },
    {
      "cell_type": "code",
      "metadata": {
        "id": "VWAM2QsDhK51"
      },
      "source": [
        "initial_centroids = initial_centroids = np.array([X[random.randint(0,50)], X[random.randint(50,100)], X[random.randint(100,150)]])\n",
        "# Select k=3 , pick 3 random centroids from data\n",
        "idx, centroids = run_k_means(X, initial_centroids, 2000)# use 1000 iterations to perform clustering"
      ],
      "execution_count": 201,
      "outputs": []
    },
    {
      "cell_type": "markdown",
      "metadata": {
        "id": "sQ_mVDLThK52"
      },
      "source": [
        "####Save the clusters form by the k-mean for further visualization"
      ]
    },
    {
      "cell_type": "code",
      "metadata": {
        "id": "M7ztSVjbhK52"
      },
      "source": [
        "k_Meancluster1 = X[np.where(idx == 0)[0],:]\n",
        "k_Meancluster2 = X[np.where(idx == 1)[0],:]\n",
        "k_Meancluster3 = X[np.where(idx == 2)[0],:]\n"
      ],
      "execution_count": 205,
      "outputs": []
    },
    {
      "cell_type": "markdown",
      "metadata": {
        "id": "wVLcfVkChK52"
      },
      "source": [
        "## 5: Add a visualisation\n",
        "Identify a suitable library to depict both your inputs as well as the results of k-means clustering applied to those inputs.\n"
      ]
    },
    {
      "cell_type": "markdown",
      "metadata": {
        "id": "KeqitD_mhK52"
      },
      "source": [
        "##Using Matplotlib"
      ]
    },
    {
      "cell_type": "markdown",
      "metadata": {
        "id": "VLSIZpvuhK53"
      },
      "source": [
        "###First Lets see the initial input with random clusters"
      ]
    },
    {
      "cell_type": "code",
      "metadata": {
        "id": "AJQRts2qhK53",
        "colab": {
          "base_uri": "https://localhost:8080/",
          "height": 500
        },
        "outputId": "4b03055a-61d6-47ec-e077-4eee55d9250e"
      },
      "source": [
        "fig, ax = plt.subplots(figsize=(12,8))\n",
        "ax.scatter(cluster1[:,0], cluster1[:,1], s=30, color='r', label='Cluster 1')\n",
        "ax.scatter(cluster2[:,0], cluster2[:,1], s=30, color='g', label='Cluster 2')\n",
        "ax.scatter(cluster3[:,0], cluster3[:,1], s=30, color='b', label='Cluster 3')\n",
        "ax.legend()\n"
      ],
      "execution_count": 203,
      "outputs": [
        {
          "output_type": "execute_result",
          "data": {
            "text/plain": [
              "<matplotlib.legend.Legend at 0x7f44bee3c490>"
            ]
          },
          "metadata": {
            "tags": []
          },
          "execution_count": 203
        },
        {
          "output_type": "display_data",
          "data": {
            "image/png": "[encoded data removed]",
            "text/plain": [
              "<Figure size 864x576 with 1 Axes>"
            ]
          },
          "metadata": {
            "tags": [],
            "needs_background": "light"
          }
        }
      ]
    },
    {
      "cell_type": "markdown",
      "metadata": {
        "id": "6-nFXv1UhK53"
      },
      "source": [
        "###Now let's visuaize the Clusters form by our k-mean"
      ]
    },
    {
      "cell_type": "code",
      "metadata": {
        "id": "hIF3kb0DhK53",
        "colab": {
          "base_uri": "https://localhost:8080/",
          "height": 500
        },
        "outputId": "dca22639-924e-41e3-bdc6-c26eb0286f43"
      },
      "source": [
        "fig, ax = plt.subplots(figsize=(12,8))\n",
        "ax.scatter(k_Meancluster1[:,0], k_Meancluster1[:,1], s=30, color='r', label='Cluster 1')\n",
        "ax.scatter(k_Meancluster2[:,0], k_Meancluster2[:,1], s=30, color='g', label='Cluster 2')\n",
        "ax.scatter(k_Meancluster3[:,0], k_Meancluster3[:,1], s=30, color='b', label='Cluster 3')\n",
        "ax.legend()"
      ],
      "execution_count": 204,
      "outputs": [
        {
          "output_type": "execute_result",
          "data": {
            "text/plain": [
              "<matplotlib.legend.Legend at 0x7f44bee4ae90>"
            ]
          },
          "metadata": {
            "tags": []
          },
          "execution_count": 204
        },
        {
          "output_type": "display_data",
          "data": {
            "image/png": "[encoded data removed]",
            "text/plain": [
              "<Figure size 864x576 with 1 Axes>"
            ]
          },
          "metadata": {
            "tags": [],
            "needs_background": "light"
          }
        }
      ]
    },
    {
      "cell_type": "code",
      "metadata": {
        "id": "Tjp9A8rkhK54"
      },
      "source": [
        ""
      ],
      "execution_count": null,
      "outputs": []
    }
  ]
}